{
 "cells": [
  {
   "cell_type": "code",
   "execution_count": 1,
   "id": "broken-present",
   "metadata": {},
   "outputs": [],
   "source": [
    "import cv2\n",
    "import os\n",
    "import numpy as np\n",
    "import matplotlib.pyplot as plt\n",
    "import pandas as pd\n",
    "from sklearn.utils import shuffle\n",
    "import pickle as pkl\n",
    "from sklearn.utils import shuffle\n",
    "from sklearn.model_selection import train_test_split\n",
    "\n",
    "import pickle as pkl"
   ]
  },
  {
   "cell_type": "code",
   "execution_count": 2,
   "id": "provincial-customer",
   "metadata": {},
   "outputs": [],
   "source": [
    "file1 = open('X_train.pkl','rb')\n",
    "file2 = open('y_train.pkl','rb')\n",
    "file3 = open('X_test.pkl','rb')\n",
    "file4 = open('y_test.pkl','rb')\n",
    "\n",
    "X_train = pkl.load(file1)\n",
    "y_train= pkl.load(file2)\n",
    "X_test = pkl.load(file3)\n",
    "y_test = pkl.load(file4)"
   ]
  },
  {
   "cell_type": "code",
   "execution_count": 3,
   "id": "intermediate-theorem",
   "metadata": {},
   "outputs": [],
   "source": [
    "from tensorflow.keras.models import load_model\n"
   ]
  },
  {
   "cell_type": "code",
   "execution_count": 4,
   "id": "early-gender",
   "metadata": {},
   "outputs": [],
   "source": [
    "base_model = load_model('models/base.h5')\n",
    "vgg = load_model('models/vgg.h5')\n",
    "resnet = load_model('models/resnet.h5')"
   ]
  },
  {
   "cell_type": "code",
   "execution_count": 10,
   "id": "ancient-problem",
   "metadata": {},
   "outputs": [
    {
     "name": "stdout",
     "output_type": "stream",
     "text": [
      "124/124 [==============================] - 192s 2s/step - loss: 0.6938 - accuracy: 0.4996\n",
      "19/19 [==============================] - 26s 1s/step - loss: 0.6939 - accuracy: 0.4974\n"
     ]
    }
   ],
   "source": [
    "base_training_metrices= base_model.evaluate(X_train,y_train)\n",
    "base_testing_metrices = base_model.evaluate(X_test,y_test)"
   ]
  },
  {
   "cell_type": "code",
   "execution_count": 11,
   "id": "compatible-genius",
   "metadata": {},
   "outputs": [
    {
     "name": "stdout",
     "output_type": "stream",
     "text": [
      "124/124 [==============================] - 417s 3s/step - loss: 0.0232 - accuracy: 0.9939\n",
      "19/19 [==============================] - 57s 3s/step - loss: 0.0391 - accuracy: 0.9862\n"
     ]
    }
   ],
   "source": [
    "vgg_training_metrices= vgg.evaluate(X_train,y_train)\n",
    "vgg_testing_metrices = vgg.evaluate(X_test,y_test)"
   ]
  },
  {
   "cell_type": "code",
   "execution_count": 12,
   "id": "agreed-flood",
   "metadata": {},
   "outputs": [
    {
     "name": "stdout",
     "output_type": "stream",
     "text": [
      "124/124 [==============================] - 197s 2s/step - loss: 1.3378 - accuracy: 0.8190\n",
      "19/19 [==============================] - 28s 1s/step - loss: 0.8860 - accuracy: 0.8497\n"
     ]
    }
   ],
   "source": [
    "resnet_training_metrices= resnet.evaluate(X_train,y_train)\n",
    "resnet_testing_metrices = resnet.evaluate(X_test,y_test)"
   ]
  },
  {
   "cell_type": "code",
   "execution_count": null,
   "id": "emotional-piano",
   "metadata": {},
   "outputs": [],
   "source": []
  }
 ],
 "metadata": {
  "kernelspec": {
   "display_name": "Python 3",
   "language": "python",
   "name": "python3"
  },
  "language_info": {
   "codemirror_mode": {
    "name": "ipython",
    "version": 3
   },
   "file_extension": ".py",
   "mimetype": "text/x-python",
   "name": "python",
   "nbconvert_exporter": "python",
   "pygments_lexer": "ipython3",
   "version": "3.8.5"
  }
 },
 "nbformat": 4,
 "nbformat_minor": 5
}
