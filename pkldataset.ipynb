{
 "cells": [
  {
   "cell_type": "code",
   "execution_count": 1,
   "id": "hungarian-tracker",
   "metadata": {},
   "outputs": [],
   "source": [
    "import cv2\n",
    "import os\n",
    "import numpy as np\n",
    "import matplotlib.pyplot as plt\n",
    "import pandas as pd\n",
    "from sklearn.utils import shuffle"
   ]
  },
  {
   "cell_type": "code",
   "execution_count": 14,
   "id": "dangerous-separate",
   "metadata": {},
   "outputs": [],
   "source": [
    "train_df = pd.read_csv('real_train.csv')\n",
    "test_df = pd.read_csv('real_test.csv')\n",
    "\n",
    "t_train = train_df[train_df['path'].str.contains('180')].index.values.tolist()\n",
    "t_test = test_df[test_df['path'].str.contains('180')].index.values.tolist()\n",
    "\n",
    "valid_trian = set(train_df.index) - set(t_train)\n",
    "valid_test = set(test_df.index) - set(t_test)\n",
    "\n",
    "train_df = train_df.loc[valid_trian]\n",
    "test_df = test_df.loc[valid_test]\n",
    "\n"
   ]
  },
  {
   "cell_type": "code",
   "execution_count": 17,
   "id": "dried-castle",
   "metadata": {},
   "outputs": [],
   "source": [
    "def load_data(path, labels):\n",
    "    X=[]\n",
    "    Y =[]\n",
    "    for x,y in zip(path, labels):\n",
    "        img = cv2.imread(x)\n",
    "        X.append(img)\n",
    "        Y.append(y)\n",
    "    X = np.array(X)\n",
    "    Y = np.array(Y)\n",
    "    return X,Y"
   ]
  },
  {
   "cell_type": "code",
   "execution_count": 19,
   "id": "synthetic-prison",
   "metadata": {},
   "outputs": [],
   "source": [
    "X_train,y_train = load_data(train_df['path'].tolist(),train_df['label'].tolist())\n",
    "X_test,y_test = load_data(test_df['path'].tolist(),test_df['label'].tolist())"
   ]
  },
  {
   "cell_type": "code",
   "execution_count": 21,
   "id": "false-punishment",
   "metadata": {},
   "outputs": [],
   "source": [
    "X_train= X_train/255\n",
    "X_test = X_test/255"
   ]
  },
  {
   "cell_type": "code",
   "execution_count": 22,
   "id": "official-plaza",
   "metadata": {},
   "outputs": [],
   "source": [
    "import pickle as pkl\n"
   ]
  },
  {
   "cell_type": "code",
   "execution_count": 24,
   "id": "under-coordinator",
   "metadata": {},
   "outputs": [],
   "source": [
    "with open('X_train.pkl', 'wb') as xtrain:\n",
    "    pkl.dump(X_train,xtrain)"
   ]
  },
  {
   "cell_type": "code",
   "execution_count": 25,
   "id": "familiar-firewall",
   "metadata": {},
   "outputs": [],
   "source": [
    "with open('y_train.pkl', 'wb') as ytrain:\n",
    "    pkl.dump(y_train,ytrain)"
   ]
  },
  {
   "cell_type": "code",
   "execution_count": 26,
   "id": "residential-volunteer",
   "metadata": {},
   "outputs": [],
   "source": [
    "with open('X_test.pkl', 'wb') as xtest:\n",
    "    pkl.dump(X_test,xtest)"
   ]
  },
  {
   "cell_type": "code",
   "execution_count": 28,
   "id": "breeding-plaza",
   "metadata": {},
   "outputs": [],
   "source": [
    "with open('y_test.pkl','wb') as ytest:\n",
    "    pkl.dump(y_test,ytest)"
   ]
  },
  {
   "cell_type": "code",
   "execution_count": null,
   "id": "sized-indication",
   "metadata": {},
   "outputs": [],
   "source": []
  }
 ],
 "metadata": {
  "kernelspec": {
   "display_name": "Python 3",
   "language": "python",
   "name": "python3"
  },
  "language_info": {
   "codemirror_mode": {
    "name": "ipython",
    "version": 3
   },
   "file_extension": ".py",
   "mimetype": "text/x-python",
   "name": "python",
   "nbconvert_exporter": "python",
   "pygments_lexer": "ipython3",
   "version": "3.8.5"
  }
 },
 "nbformat": 4,
 "nbformat_minor": 5
}
