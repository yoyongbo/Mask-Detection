{
 "cells": [
  {
   "cell_type": "code",
   "execution_count": 1,
   "metadata": {},
   "outputs": [],
   "source": [
    "import cv2\n",
    "import os\n",
    "import numpy as np\n",
    "from tqdm import tqdm\n",
    "import matplotlib.pyplot as plt\n",
    "import pandas as pd\n"
   ]
  },
  {
   "cell_type": "code",
   "execution_count": null,
   "metadata": {},
   "outputs": [],
   "source": []
  },
  {
   "cell_type": "code",
   "execution_count": 2,
   "metadata": {},
   "outputs": [],
   "source": [
    "test_df = pd.read_csv('test.csv')\n",
    "train_df = pd.read_csv('train.csv')"
   ]
  },
  {
   "cell_type": "code",
   "execution_count": 9,
   "metadata": {},
   "outputs": [],
   "source": [
    "imgs_path = train_df['img_path'].tolist()\n",
    "labels = train_df['labels'].tolist()\n",
    "\n",
    "mask_path = 'train_imgs224/mask/'\n",
    "nomask_path = 'train_imgs224/nomask/'\n",
    "angles = [90,180,270]\n",
    "\n",
    "total_path =[]\n",
    "total_labels =[]\n",
    "\n",
    "for path,label in zip(imgs_path,labels):\n",
    "    total_path.append(path)\n",
    "    total_labels.append(label)\n",
    "    \n",
    "    if label == 1:\n",
    "        des = mask_path\n",
    "    else:\n",
    "        des = nomask_path\n",
    "        \n",
    "    cur_img_name = str.split(path,'/')[-1]\n",
    "    \n",
    "    img = cv2.imread(path,0)\n",
    "    \n",
    "    for r in angles:\n",
    "        # rotate img\n",
    "        (h,w) = img.shape[:2]\n",
    "        center  = (w/2, h/2)\n",
    "        M = cv2.getRotationMatrix2D(center,r,1)\n",
    "        r_img = cv2.warpAffine(img,M,(w,h))\n",
    "        new_img_name = str(r)+'_'+cur_img_name\n",
    "        \n",
    "        new_path = os.path.join(des,new_img_name)\n",
    "        \n",
    "        # save rotated img to dir\n",
    "        cv2.imwrite(new_path, r_img)\n",
    "        \n",
    "        #append the label and path to the list\n",
    "        total_path.append(new_path)\n",
    "        total_labels.append(label)\n",
    "       \n",
    "    \n",
    "        \n",
    "       "
   ]
  },
  {
   "cell_type": "code",
   "execution_count": 10,
   "metadata": {},
   "outputs": [
    {
     "data": {
      "text/plain": [
       "5260"
      ]
     },
     "execution_count": 10,
     "metadata": {},
     "output_type": "execute_result"
    }
   ],
   "source": [
    "len(total_labels)"
   ]
  },
  {
   "cell_type": "code",
   "execution_count": 11,
   "metadata": {},
   "outputs": [
    {
     "data": {
      "text/html": [
       "<div>\n",
       "<style scoped>\n",
       "    .dataframe tbody tr th:only-of-type {\n",
       "        vertical-align: middle;\n",
       "    }\n",
       "\n",
       "    .dataframe tbody tr th {\n",
       "        vertical-align: top;\n",
       "    }\n",
       "\n",
       "    .dataframe thead th {\n",
       "        text-align: right;\n",
       "    }\n",
       "</style>\n",
       "<table border=\"1\" class=\"dataframe\">\n",
       "  <thead>\n",
       "    <tr style=\"text-align: right;\">\n",
       "      <th></th>\n",
       "      <th>path</th>\n",
       "      <th>label</th>\n",
       "    </tr>\n",
       "  </thead>\n",
       "  <tbody>\n",
       "    <tr>\n",
       "      <th>5240</th>\n",
       "      <td>train_imgs224/nomask/train95.png</td>\n",
       "      <td>0.0</td>\n",
       "    </tr>\n",
       "    <tr>\n",
       "      <th>5241</th>\n",
       "      <td>train_imgs224/nomask/90_train95.png</td>\n",
       "      <td>0.0</td>\n",
       "    </tr>\n",
       "    <tr>\n",
       "      <th>5242</th>\n",
       "      <td>train_imgs224/nomask/180_train95.png</td>\n",
       "      <td>0.0</td>\n",
       "    </tr>\n",
       "    <tr>\n",
       "      <th>5243</th>\n",
       "      <td>train_imgs224/nomask/270_train95.png</td>\n",
       "      <td>0.0</td>\n",
       "    </tr>\n",
       "    <tr>\n",
       "      <th>5244</th>\n",
       "      <td>train_imgs224/nomask/train96.png</td>\n",
       "      <td>0.0</td>\n",
       "    </tr>\n",
       "    <tr>\n",
       "      <th>5245</th>\n",
       "      <td>train_imgs224/nomask/90_train96.png</td>\n",
       "      <td>0.0</td>\n",
       "    </tr>\n",
       "    <tr>\n",
       "      <th>5246</th>\n",
       "      <td>train_imgs224/nomask/180_train96.png</td>\n",
       "      <td>0.0</td>\n",
       "    </tr>\n",
       "    <tr>\n",
       "      <th>5247</th>\n",
       "      <td>train_imgs224/nomask/270_train96.png</td>\n",
       "      <td>0.0</td>\n",
       "    </tr>\n",
       "    <tr>\n",
       "      <th>5248</th>\n",
       "      <td>train_imgs224/nomask/train97.png</td>\n",
       "      <td>0.0</td>\n",
       "    </tr>\n",
       "    <tr>\n",
       "      <th>5249</th>\n",
       "      <td>train_imgs224/nomask/90_train97.png</td>\n",
       "      <td>0.0</td>\n",
       "    </tr>\n",
       "    <tr>\n",
       "      <th>5250</th>\n",
       "      <td>train_imgs224/nomask/180_train97.png</td>\n",
       "      <td>0.0</td>\n",
       "    </tr>\n",
       "    <tr>\n",
       "      <th>5251</th>\n",
       "      <td>train_imgs224/nomask/270_train97.png</td>\n",
       "      <td>0.0</td>\n",
       "    </tr>\n",
       "    <tr>\n",
       "      <th>5252</th>\n",
       "      <td>train_imgs224/nomask/train98.png</td>\n",
       "      <td>0.0</td>\n",
       "    </tr>\n",
       "    <tr>\n",
       "      <th>5253</th>\n",
       "      <td>train_imgs224/nomask/90_train98.png</td>\n",
       "      <td>0.0</td>\n",
       "    </tr>\n",
       "    <tr>\n",
       "      <th>5254</th>\n",
       "      <td>train_imgs224/nomask/180_train98.png</td>\n",
       "      <td>0.0</td>\n",
       "    </tr>\n",
       "    <tr>\n",
       "      <th>5255</th>\n",
       "      <td>train_imgs224/nomask/270_train98.png</td>\n",
       "      <td>0.0</td>\n",
       "    </tr>\n",
       "    <tr>\n",
       "      <th>5256</th>\n",
       "      <td>train_imgs224/nomask/train99.png</td>\n",
       "      <td>0.0</td>\n",
       "    </tr>\n",
       "    <tr>\n",
       "      <th>5257</th>\n",
       "      <td>train_imgs224/nomask/90_train99.png</td>\n",
       "      <td>0.0</td>\n",
       "    </tr>\n",
       "    <tr>\n",
       "      <th>5258</th>\n",
       "      <td>train_imgs224/nomask/180_train99.png</td>\n",
       "      <td>0.0</td>\n",
       "    </tr>\n",
       "    <tr>\n",
       "      <th>5259</th>\n",
       "      <td>train_imgs224/nomask/270_train99.png</td>\n",
       "      <td>0.0</td>\n",
       "    </tr>\n",
       "  </tbody>\n",
       "</table>\n",
       "</div>"
      ],
      "text/plain": [
       "                                      path  label\n",
       "5240      train_imgs224/nomask/train95.png    0.0\n",
       "5241   train_imgs224/nomask/90_train95.png    0.0\n",
       "5242  train_imgs224/nomask/180_train95.png    0.0\n",
       "5243  train_imgs224/nomask/270_train95.png    0.0\n",
       "5244      train_imgs224/nomask/train96.png    0.0\n",
       "5245   train_imgs224/nomask/90_train96.png    0.0\n",
       "5246  train_imgs224/nomask/180_train96.png    0.0\n",
       "5247  train_imgs224/nomask/270_train96.png    0.0\n",
       "5248      train_imgs224/nomask/train97.png    0.0\n",
       "5249   train_imgs224/nomask/90_train97.png    0.0\n",
       "5250  train_imgs224/nomask/180_train97.png    0.0\n",
       "5251  train_imgs224/nomask/270_train97.png    0.0\n",
       "5252      train_imgs224/nomask/train98.png    0.0\n",
       "5253   train_imgs224/nomask/90_train98.png    0.0\n",
       "5254  train_imgs224/nomask/180_train98.png    0.0\n",
       "5255  train_imgs224/nomask/270_train98.png    0.0\n",
       "5256      train_imgs224/nomask/train99.png    0.0\n",
       "5257   train_imgs224/nomask/90_train99.png    0.0\n",
       "5258  train_imgs224/nomask/180_train99.png    0.0\n",
       "5259  train_imgs224/nomask/270_train99.png    0.0"
      ]
     },
     "execution_count": 11,
     "metadata": {},
     "output_type": "execute_result"
    }
   ],
   "source": [
    "dic = {\n",
    "    'path':total_path,\n",
    "    'label':total_labels\n",
    "}\n",
    "\n",
    "df = pd.DataFrame(dic)\n",
    "df[-20:]"
   ]
  },
  {
   "cell_type": "code",
   "execution_count": 12,
   "metadata": {},
   "outputs": [],
   "source": [
    "df.to_csv('real_train.csv',index=False)"
   ]
  },
  {
   "cell_type": "code",
   "execution_count": 13,
   "metadata": {},
   "outputs": [
    {
     "data": {
      "text/plain": [
       "1315"
      ]
     },
     "execution_count": 13,
     "metadata": {},
     "output_type": "execute_result"
    }
   ],
   "source": [
    "len(labels)"
   ]
  },
  {
   "cell_type": "code",
   "execution_count": 15,
   "metadata": {},
   "outputs": [
    {
     "data": {
      "text/plain": [
       "5260"
      ]
     },
     "execution_count": 15,
     "metadata": {},
     "output_type": "execute_result"
    }
   ],
   "source": [
    "1315*4"
   ]
  },
  {
   "cell_type": "code",
   "execution_count": null,
   "metadata": {},
   "outputs": [],
   "source": []
  }
 ],
 "metadata": {
  "kernelspec": {
   "display_name": "Python 3",
   "language": "python",
   "name": "python3"
  },
  "language_info": {
   "codemirror_mode": {
    "name": "ipython",
    "version": 3
   },
   "file_extension": ".py",
   "mimetype": "text/x-python",
   "name": "python",
   "nbconvert_exporter": "python",
   "pygments_lexer": "ipython3",
   "version": "3.8.5"
  }
 },
 "nbformat": 4,
 "nbformat_minor": 4
}
