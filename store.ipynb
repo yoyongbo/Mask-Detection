{
 "cells": [
  {
   "cell_type": "code",
   "execution_count": 1,
   "id": "likely-funds",
   "metadata": {},
   "outputs": [],
   "source": [
    "import cv2\n",
    "import os\n",
    "import numpy as np\n",
    "import matplotlib.pyplot as plt\n",
    "import pandas as pd\n",
    "from sklearn.utils import shuffle\n",
    "import pickle as pkl\n",
    "\n",
    "train_df = pd.read_csv('real_train.csv')\n",
    "test_df = pd.read_csv('real_test.csv')\n",
    "train_df = shuffle(train_df)\n",
    "test_df = shuffle(test_df)"
   ]
  },
  {
   "cell_type": "code",
   "execution_count": 2,
   "id": "scheduled-liability",
   "metadata": {},
   "outputs": [],
   "source": [
    "def load_data(path, labels):\n",
    "    X=[]\n",
    "    Y =[]\n",
    "    for x,y in zip(path, labels):\n",
    "        img = cv2.imread(x)\n",
    "        #print(img.shape)\n",
    "        #break\n",
    "        #img.reshape(w,h,-1)\n",
    "        X.append(img)\n",
    "        Y.append(y)\n",
    "    X = np.array(X)\n",
    "    Y = np.array(Y)\n",
    "    return X,Y"
   ]
  },
  {
   "cell_type": "code",
   "execution_count": 3,
   "id": "original-version",
   "metadata": {},
   "outputs": [
    {
     "data": {
      "text/plain": [
       "\"X_test,y_test = load_data(test_df['path'].tolist(),test_df['label'].tolist())\\nX_train = X_train/255.0\\nX_test = X_test/255.0\""
      ]
     },
     "execution_count": 3,
     "metadata": {},
     "output_type": "execute_result"
    }
   ],
   "source": [
    "X_train,y_train = load_data(train_df['path'].tolist(),train_df['label'].tolist())\n",
    "'''X_test,y_test = load_data(test_df['path'].tolist(),test_df['label'].tolist())\n",
    "X_train = X_train/255.0\n",
    "X_test = X_test/255.0'''"
   ]
  },
  {
   "cell_type": "code",
   "execution_count": 4,
   "id": "initial-salvation",
   "metadata": {},
   "outputs": [],
   "source": [
    "X_train= X_train/255\n"
   ]
  },
  {
   "cell_type": "code",
   "execution_count": 5,
   "id": "balanced-theorem",
   "metadata": {},
   "outputs": [],
   "source": [
    "X_top = X_train[:3000]\n",
    "X_bot = X_train[3000:]"
   ]
  },
  {
   "cell_type": "code",
   "execution_count": 6,
   "id": "opened-management",
   "metadata": {},
   "outputs": [],
   "source": [
    "with open('X_train1.pkl','wb') as xtrain1:\n",
    "    pkl.dump(X_top,xtrain1)\n",
    "with open('X_train2.pkl','wb') as xtrain2:\n",
    "    pkl.dump(X_bot,xtrain2)"
   ]
  },
  {
   "cell_type": "code",
   "execution_count": 9,
   "id": "coral-award",
   "metadata": {},
   "outputs": [],
   "source": [
    "with open('y_train.pkl','wb') as ytrain:\n",
    "    pkl.dump(y_train,ytrain)"
   ]
  },
  {
   "cell_type": "code",
   "execution_count": 8,
   "id": "altered-deviation",
   "metadata": {},
   "outputs": [
    {
     "data": {
      "text/plain": [
       "(2260, 224, 224, 3)"
      ]
     },
     "execution_count": 8,
     "metadata": {},
     "output_type": "execute_result"
    }
   ],
   "source": [
    "x.shape"
   ]
  },
  {
   "cell_type": "code",
   "execution_count": 11,
   "id": "weird-restoration",
   "metadata": {},
   "outputs": [],
   "source": [
    "X_test,y_test = load_data(test_df['path'].tolist(),test_df['label'].tolist())\n",
    "X_test = X_test/255.0"
   ]
  },
  {
   "cell_type": "code",
   "execution_count": 16,
   "id": "balanced-kingdom",
   "metadata": {},
   "outputs": [],
   "source": [
    "with open('X_test.pkl','wb') as xtest:\n",
    "    pkl.dump(X_test,xtest)\n",
    "with open('y_test.pkl','wb') as ytest:\n",
    "    pkl.dump(y_test,ytest)"
   ]
  },
  {
   "cell_type": "code",
   "execution_count": null,
   "id": "short-fighter",
   "metadata": {},
   "outputs": [],
   "source": []
  }
 ],
 "metadata": {
  "kernelspec": {
   "display_name": "Python 3",
   "language": "python",
   "name": "python3"
  },
  "language_info": {
   "codemirror_mode": {
    "name": "ipython",
    "version": 3
   },
   "file_extension": ".py",
   "mimetype": "text/x-python",
   "name": "python",
   "nbconvert_exporter": "python",
   "pygments_lexer": "ipython3",
   "version": "3.8.5"
  }
 },
 "nbformat": 4,
 "nbformat_minor": 5
}
